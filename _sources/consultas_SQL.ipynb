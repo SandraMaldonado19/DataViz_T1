{
 "cells": [
  {
   "cell_type": "markdown",
   "metadata": {},
   "source": [
    "# Configuraciones para la conexión con la base de datos\n",
    "\n",
    "## Creación de la conexión con la instancia de PostgreSQL creada en Docker\n",
    "\n",
    "Antes de iniciar con el desarrollo de las consultas, nos conectamos a la instancia de PostgreSQL creada dentro el contenedor en Docker.\n",
    "\n",
    "Iniciamos verificando los procesos que se están ejecutando en el contenedor.\n",
    "\n",
    "```PowerShell\n",
    "docker ps \n",
    "```\n",
    "<img src=\"assets/Conexion1.png\" alt=\"Texto alternativo\" width=\"600px\" class=\"bg-primary\" style=\"display: block; margin: 0 auto;\">\n",
    "<p style=\"text-align: center; width: 100%;\">1. Procesos siendo ejecutados por nuestro contenedor **Docker**</p>\n",
    "\n",
    "```{image} assets/Conexion1.png\n",
    ":height: 150px\n",
    ":width: 200px\n",
    ":align: center\n",
    ":name: procesos_en ejecucion_Docker\n",
    "\n",
    "Procesos siendo ejecutados por nuestro contenedor **Docker**\n",
    "```\n",
    "\n",
    "Para **conectarnos a la instancia de PostgreSQL** creada por el contenedor, utilizamos el siguiente comando:\n",
    "\n",
    "\n",
    "```{glue} PowerShell\n",
    "docker exec -it dbtask1-postgres bash \n",
    "```\n",
    "\n",
    "**docker exec** se encarga de ejecutar un comando de forma interactiva en un contenedor en ejecución, en este caso, el contenedor para PostgreSQL previamente instanciado, utilizando el programa **bash** dentro del contenedor. Luego de hacerlo, podemos conectarnos a **postgres** desde el **bash** utilizando el siguiente comando:\n",
    "\n",
    "\n",
    "\n",
    "```PowerShell\n",
    ":psql -U dbtask1 --password --db dbtask1\n",
    "```\n",
    "\n",
    "```{figure} Conexion2.png\n",
    "height: 150px\n",
    ":width: 200px\n",
    ":align: center\n",
    "name: conexion_db\n",
    "\n",
    "Conexión a base de datos. La contraseña es suministrada en el prompt\n",
    "```\n",
    "\n",
    "## Administración de la base de datos con pgAdmin\n",
    "\n",
    "Para visualizar las tablas creadas, se crea una conexión con pgAdmin, siguiendo los pasos explicados en clase.\n",
    "\n",
    "```{figure} pgAdmin1.png\n",
    "height: 150px\n",
    ":width: 200px\n",
    ":align: center\n",
    "name: conexion_db\n",
    "\n",
    "Página de inicio de pgAdmin\n",
    "```\n",
    "\n",
    "```{figure} pgAdmin2.png\n",
    "height: 150px\n",
    ":width: 200px\n",
    ":align: center\n",
    "name: conexion_db\n",
    "\n",
    "Ingreso de credenciales para conectarnos a la base de datos instanciada.\n",
    "```\n",
    "\n",
    "```{figure} pgAdmin3.png\n",
    "height: 150px\n",
    ":width: 200px\n",
    ":align: center\n",
    "name: conexion_db\n",
    "\n",
    "Base de datos del proyecto conectada.\n",
    "```\n",
    "\n",
    "\n",
    "## Configuración del entorno Python\n",
    "\n",
    "Como lo indica el punto 4 de la asignación, las consultas SQL deben realizarse desde Python usando la API psycopg2. Para ello, inicialmente crearemos un entorno aislado con las dependencias que serán utilizadas en el marco del proyecto.\n",
    "\n",
    "```PowerShell\n",
    "conda create --name tarea1_venv python=3.9\n",
    "```\n",
    "\n",
    "Ahora para activarlos, usamos:\n",
    "\n",
    "```PowerShell\n",
    "conda activate tarea1_venv\n",
    "```\n",
    "\n",
    "Instalamos librerías básicas para el análisis de datos y el desarrollo de las consultas.\n",
    "\n",
    "```PowerShell\n",
    "pip install -U jupyter-book\n",
    "pip install -U psycopg2\n",
    "pip install -U numpy\n",
    "pip install -U scipy\n",
    "pip install -U pandas\n",
    "pip install -U matplotlib\n",
    "pip install -U scikit-learn\n",
    "pip install -U jupyter-book\n",
    "pip install -U psycopg2\n",
    "pip install jupyter lab\n",
    "```\n",
    "\n",
    "Ahora, instalamos un nuevo kernel de IPython con el nombre \"tarea1_venv\" en el entorno de mi usuario actual. Esto con el propósito de utilizar este kernel específico en mis Jupyter notebooks para trabajar en el entorno virtual creado para el proyecto.\n",
    "\n",
    "```PowerShell\n",
    "pip install -U ipykernel\n",
    "python -m ipykernel install --user --name=tarea1_venv\n",
    "```\n",
    "\n",
    "En este caso, las consultas las desarrollamos en Jupyter lab. \n",
    "\n",
    "```PowerShell\n",
    "jupyter lab\n",
    "```\n",
    "\n"
   ]
  },
  {
   "cell_type": "markdown",
   "metadata": {},
   "source": [
    "```sh\n",
    "git clone https://github.com/TomasBeuzen/python-programming-for-data-science.git\n",
    "```"
   ]
  },
  {
   "cell_type": "markdown",
   "metadata": {},
   "source": [
    "# Python API para PosgreSQL\n",
    "\n",
    "La biblioteca psycopg2 es un controlador de base de datos para PostgreSQL en Python. Para el propósito de la actividad, importamos la librería y la clase Error para manejar errores específicos de PostgreSQL"
   ]
  },
  {
   "cell_type": "code",
   "execution_count": 1,
   "metadata": {},
   "outputs": [],
   "source": [
    "\n",
    "import psycopg2\n",
    "from psycopg2 import Error"
   ]
  },
  {
   "cell_type": "markdown",
   "metadata": {},
   "source": [
    "Ahora intentamos establecer una conexión con la base de datos PostgreSQL creada. Utilizamo los parámetros de conexión, como el nombre de usuario, contraseña, host, puerto y nombre de la base de datos, para conectarnos a un servidor local. Si la conexión se establece con éxito, creamos un objeto cursor que se utilizará para ejecutar comandos SQL en la base de datos."
   ]
  },
  {
   "cell_type": "code",
   "execution_count": 8,
   "metadata": {},
   "outputs": [
    {
     "name": "stdout",
     "output_type": "stream",
     "text": [
      "PostgreSQL server information\n",
      "{'user': 'dbtask1', 'channel_binding': 'prefer', 'dbname': 'dbtask1', 'host': 'localhost', 'port': '5432', 'options': '', 'sslmode': 'prefer', 'sslcompression': '0', 'sslcertmode': 'allow', 'sslsni': '1', 'ssl_min_protocol_version': 'TLSv1.2', 'gssencmode': 'disable', 'krbsrvname': 'postgres', 'gssdelegation': '0', 'target_session_attrs': 'any', 'load_balance_hosts': 'disable'} \n",
      "\n",
      "You are connected to -  ('PostgreSQL 16.0 (Debian 16.0-1.pgdg120+1) on x86_64-pc-linux-gnu, compiled by gcc (Debian 12.2.0-14) 12.2.0, 64-bit',) \n",
      "\n"
     ]
    }
   ],
   "source": [
    "try:\n",
    "    connection = psycopg2.connect(user=\"dbtask1\",\n",
    "                                  password=\"password\",\n",
    "                                  host=\"localhost\",\n",
    "                                  port=\"5432\",\n",
    "                                  database=\"dbtask1\")\n",
    "\n",
    "    cursor = connection.cursor()\n",
    "    print(\"PostgreSQL server information\")\n",
    "    print(connection.get_dsn_parameters(), \"\\n\")\n",
    "\n",
    "    cursor.execute(\"SELECT version();\")\n",
    "    record = cursor.fetchone()\n",
    "    print(\"You are connected to - \", record, \"\\n\")\n",
    "\n",
    "except (Exception, Error) as error:\n",
    "    print(\"Error while connecting to PostgreSQL\", error)\n",
    "#finally:\n",
    "    #if (connection):\n",
    "        #cursor.close()\n",
    "        #connection.close()\n",
    "        #print(\"PostgreSQL connection is closed\")"
   ]
  },
  {
   "cell_type": "markdown",
   "metadata": {},
   "source": [
    "## Consultas SQL\n",
    "\n",
    "### I. CREATE TABLE employees\n",
    "\n",
    "Este código crea una nueva tabla llamada \"employees\" en una base de datos y establece un conjunto de reglas y restricciones en esta tabla para garantizar la integridad de los datos, como la unicidad del ID de empleado."
   ]
  },
  {
   "cell_type": "code",
   "execution_count": 5,
   "metadata": {},
   "outputs": [],
   "source": [
    "\n",
    "cursor.execute('''DROP TABLE IF EXISTS employees''')\n",
    "cursor.execute('''CREATE TABLE employees\n",
    "   ( employee_id INTEGER\n",
    "   , first_name VARCHAR(20)\n",
    "   , last_name VARCHAR(25)\n",
    "   , email VARCHAR(25)\n",
    "   , phone_number VARCHAR(20)\n",
    "   , hire_date DATE\n",
    "   , job_id VARCHAR(10)\n",
    "   , salary NUMERIC(8,2)\n",
    "   , commission_pct NUMERIC(2,2)\n",
    "   , manager_id INTEGER\n",
    "   , department_id INTEGER\n",
    "   ) ;\n",
    "\n",
    "CREATE UNIQUE INDEX emp_emp_id_pk\n",
    "         ON employees (employee_id) ;\n",
    "\n",
    "ALTER TABLE employees ADD\n",
    "   PRIMARY KEY (employee_id);\n",
    "''')\n",
    "\n",
    "# Confirma los cambios en la base de datos\n",
    "connection.commit()"
   ]
  },
  {
   "cell_type": "markdown",
   "metadata": {},
   "source": [
    "Usando la sentencia a continuación, seleccionamos todos los registros de la tabla \"employees\". Luego, utiliza la cláusula \"LIMIT 10\" para restringir el resultado a solo 10 filas."
   ]
  },
  {
   "cell_type": "code",
   "execution_count": 6,
   "metadata": {},
   "outputs": [
    {
     "name": "stdout",
     "output_type": "stream",
     "text": [
      "Operation done successfully\n"
     ]
    }
   ],
   "source": [
    "# Ejecutar la consulta\n",
    "cursor.execute(\"SELECT * FROM employees LIMIT 10\")\n",
    "\n",
    "# Recuperar los resultados\n",
    "rows = cursor.fetchall()\n",
    "\n",
    "# Iterar sobre los resultados\n",
    "for row in rows:\n",
    "    print(row)\n",
    "print(\"Operation done successfully\")"
   ]
  },
  {
   "cell_type": "markdown",
   "metadata": {},
   "source": [
    "Ahora, empleando esta sentencia hacemos una agregación para contar el número total de registros en la tabla \"employees\". La consulta devolverá un solo valor que representa la cantidad total de registros en la tabla \"employees\"."
   ]
  },
  {
   "cell_type": "code",
   "execution_count": 7,
   "metadata": {},
   "outputs": [
    {
     "name": "stdout",
     "output_type": "stream",
     "text": [
      "El número de empleados es: 0\n"
     ]
    }
   ],
   "source": [
    "# Ejecutar la consulta\n",
    "cursor.execute(\"SELECT count(1) FROM employees\")\n",
    "\n",
    "# Recuperar el resultado\n",
    "count = cursor.fetchone()[0]\n",
    "\n",
    "# Imprimir el resultado\n",
    "print(f\"El número de empleados es: {count}\")"
   ]
  },
  {
   "cell_type": "markdown",
   "metadata": {},
   "source": [
    "### II. CREATE TABLE courses"
   ]
  }
 ],
 "metadata": {
  "kernelspec": {
   "display_name": "tarea1_venv",
   "language": "python",
   "name": "python3"
  },
  "language_info": {
   "codemirror_mode": {
    "name": "ipython",
    "version": 3
   },
   "file_extension": ".py",
   "mimetype": "text/x-python",
   "name": "python",
   "nbconvert_exporter": "python",
   "pygments_lexer": "ipython3",
   "version": "3.9.18"
  }
 },
 "nbformat": 4,
 "nbformat_minor": 2
}
