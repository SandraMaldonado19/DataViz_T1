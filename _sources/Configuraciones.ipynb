{
 "cells": [
  {
   "cell_type": "markdown",
   "metadata": {},
   "source": [
    "Hola\n",
    "\n",
    "```python\n",
    "try:\n",
    "    connection = psycopg2.connect(user=\"dbtask1\",\n",
    "                                  password=\"password\",\n",
    "                                  host=\"localhost\",\n",
    "                                  port=\"5432\",\n",
    "                                  database=\"dbtask1\")\n",
    "\n",
    "    cursor = connection.cursor()\n",
    "    print(\"PostgreSQL server information\")\n",
    "    print(connection.get_dsn_parameters(), \"\\n\")\n",
    "\n",
    "    cursor.execute(\"SELECT version();\")\n",
    "    record = cursor.fetchone()\n",
    "    print(\"You are connected to - \", record, \"\\n\")\n",
    "\n",
    "except (Exception, Error) as error:\n",
    "    print(\"Error while connecting to PostgreSQL\", error)\n",
    "#finally:\n",
    "   # if (connection):\n",
    "        #cursor.close()\n",
    "       # connection.close()\n",
    "       # print(\"PostgreSQL connection is closed\")\n",
    "```\n",
    "\n",
    "> Esta es una prueba"
   ]
  },
  {
   "cell_type": "markdown",
   "metadata": {},
   "source": [
    "https://jupyterbook.org/en/stable/content/content-blocks.html\n",
    "\n",
    "https://jupyterbook.org/en/stable/reference/cheatsheet.html"
   ]
  },
  {
   "cell_type": "markdown",
   "metadata": {},
   "source": [
    "This is the end of some text.\n",
    "\n",
    "---\n",
    "\n",
    "## New Header"
   ]
  },
  {
   "cell_type": "markdown",
   "metadata": {},
   "source": [
    "a line\n",
    "% a comment\n",
    "another line"
   ]
  },
  {
   "cell_type": "markdown",
   "metadata": {},
   "source": [
    "<p> This is a paragraph </p>"
   ]
  },
  {
   "cell_type": "markdown",
   "metadata": {},
   "source": [
    "```{figure} ../images/C-3PO_droid.png\n",
    ":height: 150px\n",
    ":name: figure-example\n",
    "\n",
    "Here is my figure caption!\n",
    "```"
   ]
  },
  {
   "cell_type": "markdown",
   "metadata": {},
   "source": [
    "```python\n",
    "note = \"Python syntax highlighting\"\n",
    "print(node)\n",
    "```"
   ]
  }
 ],
 "metadata": {
  "kernelspec": {
   "display_name": "tarea1_venv",
   "language": "python",
   "name": "python3"
  },
  "language_info": {
   "name": "python",
   "version": "3.9.18"
  }
 },
 "nbformat": 4,
 "nbformat_minor": 2
}
